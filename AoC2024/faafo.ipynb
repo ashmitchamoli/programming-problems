{
 "cells": [
  {
   "cell_type": "code",
   "execution_count": 7,
   "metadata": {},
   "outputs": [
    {
     "name": "stdout",
     "output_type": "stream",
     "text": [
      "3\n",
      "3\n"
     ]
    }
   ],
   "source": [
    "x : int = 3\n",
    "\n",
    "def changeX(a):\n",
    "\ta += 5\n",
    "\n",
    "print(x)\n",
    "changeX(x)\n",
    "print(x)"
   ]
  },
  {
   "cell_type": "code",
   "execution_count": 5,
   "metadata": {},
   "outputs": [
    {
     "name": "stdout",
     "output_type": "stream",
     "text": [
      "[2, 3, 4, 5]\n",
      "[2, 3, 4, 5]\n"
     ]
    }
   ],
   "source": [
    "l : list[int] = [2, 3, 4, 5]\n",
    "\n",
    "def changeList(l):\n",
    "\t# l[2] = 3\n",
    "\tl = [2, 3, 4, 4]\n",
    "\n",
    "print(l)\n",
    "changeList(l)\n",
    "print(l)"
   ]
  },
  {
   "cell_type": "code",
   "execution_count": 12,
   "metadata": {},
   "outputs": [
    {
     "name": "stdout",
     "output_type": "stream",
     "text": [
      "25.906231780223386\n"
     ]
    },
    {
     "data": {
      "text/plain": [
       "0.197444089456869"
      ]
     },
     "execution_count": 13,
     "metadata": {},
     "output_type": "execute_result"
    }
   ],
   "source": [
    "data = [40,23,32,51,50,62,65,75,85,83,21,37,30,42,44,44,57,53,54,75,73,96,65,66,66,43,48,45,55,93,51,72,78,64,58,72,63,64,69,72,74,77,60,56,61,69,67,65,50,50]\n",
    "\n",
    "14*65\n",
    "9*75\n",
    "sum([50, 105, 315, 605, 910, 675, 170, 190])\n",
    "X = list(range(25, 96, 10))\n",
    "f = [2, 3, 7, 11, 14, 9, 2, 2]\n",
    "\n",
    "import math\n",
    "print(math.sqrt(sum([fi * Xi**2 for fi, Xi in zip(f, X)]) / 50 - 60.4**2) / 60.4 * 100)\n",
    "3 * 1.03 / 15.65"
   ]
  }
 ],
 "metadata": {
  "kernelspec": {
   "display_name": "usr",
   "language": "python",
   "name": "python3"
  },
  "language_info": {
   "codemirror_mode": {
    "name": "ipython",
    "version": 3
   },
   "file_extension": ".py",
   "mimetype": "text/x-python",
   "name": "python",
   "nbconvert_exporter": "python",
   "pygments_lexer": "ipython3",
   "version": "3.11.6"
  }
 },
 "nbformat": 4,
 "nbformat_minor": 2
}
